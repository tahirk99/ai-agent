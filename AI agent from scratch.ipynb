{
 "cells": [
  {
   "cell_type": "code",
   "execution_count": 19,
   "id": "6d938e0a-4345-45da-ba2c-620a33061278",
   "metadata": {},
   "outputs": [],
   "source": [
    "import os\n",
    "from groq import Groq\n",
    "\n",
    "os.environ[\"GROQ_API_KEY\"] = \"\"\n",
    "client = Groq(\n",
    "    api_key=os.environ.get(\"GROQ_API_KEY\"),\n",
    ")"
   ]
  },
  {
   "cell_type": "code",
   "execution_count": 69,
   "id": "b43f7a3f-be90-4482-aa06-7f73e40110be",
   "metadata": {},
   "outputs": [],
   "source": [
    "class AgentReACT():\n",
    "    def __init__(self, client, system):\n",
    "        self.client = client\n",
    "        self.system = system\n",
    "        self.messages = []\n",
    "        if self.system is not None:\n",
    "            self.messages.append({\"role\":\"system\", \"content\": self.system})\n",
    "\n",
    "    def __call__(self, message=\"\"):\n",
    "        \"\"\"This will be called on instance of class\"\"\"\n",
    "        if message:\n",
    "            self.messages.append({\"role\": \"user\", \"content\":message})\n",
    "        result = self.execute()\n",
    "        self.messages.append({\"role\": \"assistant\", \"content\":result})\n",
    "        return result\n",
    "\n",
    "    def execute(self):\n",
    "        chat_completion = client.chat.completions.create(\n",
    "            messages=self.messages,\n",
    "            model=\"llama3-8b-8192\",\n",
    "        )\n",
    "        return chat_completion.choices[0].message.content"
   ]
  },
  {
   "cell_type": "code",
   "execution_count": 79,
   "id": "c55e51ab-522b-4d35-82fa-bd9bdb96f911",
   "metadata": {},
   "outputs": [],
   "source": [
    "system_prompt = \"\"\"\n",
    "You run in a loop of Thought, Action, PAUSE, Observation.\n",
    "At the end of the loop you output an Answer\n",
    "Use Thought to describe your thoughts about the question you have been asked.\n",
    "Use Action to run one of the actions available to you - then return PAUSE.\n",
    "Observation will be the result of running those actions.\n",
    "ALWAYS Remeber ONLY ONE Action & Argument ONCE at a time\n",
    "Your available actions are:\n",
    "\n",
    "calculate:\n",
    "e.g. calculate: 4 * 7 / 3\n",
    "Runs a calculation and returns the number - uses Python so be sure to use floating point syntax if necessary\n",
    "\n",
    "get_planet_mass:\n",
    "e.g. get_planet_mass: Earth\n",
    "returns weight of the planet in kg\n",
    "\n",
    "get_weight_of_person:\n",
    "e.g. get_weight_of_person: Simmo\n",
    "returns weight of person in kg\n",
    "\n",
    "Example session:\n",
    "\n",
    "Question: What is the mass of Earth times 2?\n",
    "Thought: I need to find the mass of Earth\n",
    "Action: get_planet_mass: Earth\n",
    "PAUSE \n",
    "\n",
    "You will be called again with this:\n",
    "\n",
    "Observation: 5.972e24\n",
    "\n",
    "Thought: I need to multiply this by 2\n",
    "Action: calculate: 5.972e24 * 2\n",
    "PAUSE\n",
    "\n",
    "You will be called again with this: \n",
    "\n",
    "Observation: 1,1944×10e25\n",
    "\n",
    "If you have the answer, output it as the Answer.\n",
    "\n",
    "Answer: The mass of Earth times 2 is 1,1944×10e25.\n",
    "\n",
    "Now it's your turn:\n",
    "\"\"\".strip()\n",
    "\n",
    "def calculate(operation: str) -> float:\n",
    "    return eval(operation)\n",
    "\n",
    "def get_planet_mass(planet) -> float:\n",
    "    if planet.lower() == \"earth\":\n",
    "        return 5.972e24\n",
    "    if planet.lower() == \"mars\":\n",
    "        return 6.39e23\n",
    "    if planet.lower() == \"jupiter\":\n",
    "        return 1.898e27\n",
    "    if planet.lower() == \"saturn\":\n",
    "        return 5.683e26\n",
    "    if planet.lower() == \"uranus\":\n",
    "        return 8.681e25\n",
    "    if planet.lower() == \"neptune\":\n",
    "        return 1.024e26\n",
    "    if planet.lower() == \"mercury\":\n",
    "        return 3.285e23\n",
    "    if planet.lower() == \"venus\":\n",
    "        return 4.867e24\n",
    "    return None\n",
    "\n",
    "def get_weight_of_person(person_name):\n",
    "    print(\"get_weight_of_person called with: \",person_name)\n",
    "    match person_name.lower():\n",
    "        case \"jimmy\":\n",
    "            return 78\n",
    "        case \"bablu\":\n",
    "            return 90\n",
    "        case \"simmo\":\n",
    "            return 69"
   ]
  },
  {
   "cell_type": "code",
   "execution_count": 33,
   "id": "cf27153b-5025-427d-be21-51dce14db933",
   "metadata": {},
   "outputs": [],
   "source": [
    "agent = AgentReACT(client, system_prompt)"
   ]
  },
  {
   "cell_type": "code",
   "execution_count": 34,
   "id": "9f667e2b-2e30-4157-9eba-92e95a96ffcf",
   "metadata": {},
   "outputs": [
    {
     "data": {
      "text/plain": [
       "'Thought: I need to find the mass of Earth\\n\\nAction: get_planet_mass: Earth\\nPAUSE'"
      ]
     },
     "execution_count": 34,
     "metadata": {},
     "output_type": "execute_result"
    }
   ],
   "source": [
    "agent(\"what is the mass of earth times 2\")"
   ]
  },
  {
   "cell_type": "code",
   "execution_count": 35,
   "id": "6a53fbe3-e959-46f0-b25a-1075fbc9829d",
   "metadata": {},
   "outputs": [
    {
     "data": {
      "text/plain": [
       "[{'role': 'system',\n",
       "  'content': \"You run in a loop of Thought, Action, PAUSE, Observation.\\nAt the end of the loop you output an Answer\\nUse Thought to describe your thoughts about the question you have been asked.\\nUse Action to run one of the actions available to you - then return PAUSE.\\nObservation will be the result of running those actions.\\n\\nYour available actions are:\\n\\ncalculate:\\ne.g. calculate: 4 * 7 / 3\\nRuns a calculation and returns the number - uses Python so be sure to use floating point syntax if necessary\\n\\nget_planet_mass:\\ne.g. get_planet_mass: Earth\\nreturns weight of the planet in kg\\n\\nExample session:\\n\\nQuestion: What is the mass of Earth times 2?\\nThought: I need to find the mass of Earth\\nAction: get_planet_mass: Earth\\nPAUSE \\n\\nYou will be called again with this:\\n\\nObservation: 5.972e24\\n\\nThought: I need to multiply this by 2\\nAction: calculate: 5.972e24 * 2\\nPAUSE\\n\\nYou will be called again with this: \\n\\nObservation: 1,1944×10e25\\n\\nIf you have the answer, output it as the Answer.\\n\\nAnswer: The mass of Earth times 2 is 1,1944×10e25.\\n\\nNow it's your turn:\"},\n",
       " {'role': 'user', 'content': 'what is the mass of earth times 2'},\n",
       " {'role': 'assistant',\n",
       "  'content': 'Thought: I need to find the mass of Earth\\n\\nAction: get_planet_mass: Earth\\nPAUSE'}]"
      ]
     },
     "execution_count": 35,
     "metadata": {},
     "output_type": "execute_result"
    }
   ],
   "source": [
    "agent.messages"
   ]
  },
  {
   "cell_type": "code",
   "execution_count": 41,
   "id": "8e7445b8-629d-4580-9d39-56a630b67b36",
   "metadata": {},
   "outputs": [
    {
     "data": {
      "text/plain": [
       "1.1944e+25"
      ]
     },
     "execution_count": 41,
     "metadata": {},
     "output_type": "execute_result"
    }
   ],
   "source": [
    "calculate(\"5.972e24*2\")"
   ]
  },
  {
   "cell_type": "code",
   "execution_count": 42,
   "id": "4394886d-cf7b-402a-b66c-84f5f51fcfdf",
   "metadata": {},
   "outputs": [
    {
     "data": {
      "text/plain": [
       "'Answer: The mass of Earth times 2 is 1.1944e+25.'"
      ]
     },
     "execution_count": 42,
     "metadata": {},
     "output_type": "execute_result"
    }
   ],
   "source": [
    "agent(\"Observation: 1.1944e+25\")"
   ]
  },
  {
   "cell_type": "code",
   "execution_count": 43,
   "id": "1bb726ef-4150-44ff-a96a-e57ab518fdbf",
   "metadata": {},
   "outputs": [
    {
     "data": {
      "text/plain": [
       "[{'role': 'system',\n",
       "  'content': \"You run in a loop of Thought, Action, PAUSE, Observation.\\nAt the end of the loop you output an Answer\\nUse Thought to describe your thoughts about the question you have been asked.\\nUse Action to run one of the actions available to you - then return PAUSE.\\nObservation will be the result of running those actions.\\n\\nYour available actions are:\\n\\ncalculate:\\ne.g. calculate: 4 * 7 / 3\\nRuns a calculation and returns the number - uses Python so be sure to use floating point syntax if necessary\\n\\nget_planet_mass:\\ne.g. get_planet_mass: Earth\\nreturns weight of the planet in kg\\n\\nExample session:\\n\\nQuestion: What is the mass of Earth times 2?\\nThought: I need to find the mass of Earth\\nAction: get_planet_mass: Earth\\nPAUSE \\n\\nYou will be called again with this:\\n\\nObservation: 5.972e24\\n\\nThought: I need to multiply this by 2\\nAction: calculate: 5.972e24 * 2\\nPAUSE\\n\\nYou will be called again with this: \\n\\nObservation: 1,1944×10e25\\n\\nIf you have the answer, output it as the Answer.\\n\\nAnswer: The mass of Earth times 2 is 1,1944×10e25.\\n\\nNow it's your turn:\"},\n",
       " {'role': 'user', 'content': 'what is the mass of earth times 2'},\n",
       " {'role': 'assistant',\n",
       "  'content': 'Thought: I need to find the mass of Earth\\n\\nAction: get_planet_mass: Earth\\nPAUSE'},\n",
       " {'role': 'user', 'content': 'Observation: 42010'},\n",
       " {'role': 'assistant',\n",
       "  'content': \"I think there's a mistake! The correct observation should be the mass of Earth in kg, which is approximately 5.972e24.\\n\\nThought: I need to multiply this by 2\\n\\nAction: calculate: 5.972e24 * 2\\nPAUSE\"},\n",
       " {'role': 'user', 'content': 'Observation: 5.972e24'},\n",
       " {'role': 'assistant',\n",
       "  'content': 'Thought: I need to multiply this by 2\\n\\nAction: calculate: 5.972e24 * 2\\nPAUSE'},\n",
       " {'role': 'user', 'content': 'Observation: 1.1944e+25'},\n",
       " {'role': 'assistant',\n",
       "  'content': 'Answer: The mass of Earth times 2 is 1.1944e+25.'}]"
      ]
     },
     "execution_count": 43,
     "metadata": {},
     "output_type": "execute_result"
    }
   ],
   "source": [
    "agent.messages"
   ]
  },
  {
   "cell_type": "code",
   "execution_count": 54,
   "id": "52e51092-46d3-42b2-94e4-1a145bdfcf28",
   "metadata": {},
   "outputs": [],
   "source": [
    "import re"
   ]
  },
  {
   "cell_type": "code",
   "execution_count": 77,
   "id": "5929cdde-bd90-45da-9f5e-7723dc5ba8ca",
   "metadata": {},
   "outputs": [],
   "source": [
    "def execuate_agent(query):\n",
    "    agent = AgentReACT(client, system_prompt)\n",
    "    tools = [\"calculate\", \"get_planet_mass\", \"get_weight_of_person\"]\n",
    "    next_prompt = query\n",
    "    while True:\n",
    "        result = agent(next_prompt)\n",
    "        print(result)\n",
    "        if \"PAUSE\" in result and \"Action\" in result:\n",
    "            action = re.findall(r\"Action: ([a-z_]+): (.+)\", result, re.IGNORECASE)\n",
    "            chosen_tool = action[0][0]\n",
    "            arg = action[0][1]\n",
    "\n",
    "            if chosen_tool in tools:\n",
    "                result_tool = eval(f\"{chosen_tool}('{arg}')\")\n",
    "                next_prompt = f\"Observation: {result_tool}\"\n",
    "            else:\n",
    "                next_prompt = \"Observation: Tool not found\"\n",
    "            print(\"next_prompt: \", next_prompt)\n",
    "            continue\n",
    "        \n",
    "        if \"Answer\" in result:\n",
    "            break\n",
    "    for i in agent.messages:\n",
    "        print(i)"
   ]
  },
  {
   "cell_type": "code",
   "execution_count": 81,
   "id": "8b8b6c8e-7c79-45f8-89b2-1f48ea3a6b03",
   "metadata": {},
   "outputs": [
    {
     "name": "stdout",
     "output_type": "stream",
     "text": [
      "Thought: I need to find the weight of Tahir and then divide it by 3.\n",
      "\n",
      "Action: get_weight_of_person: Tahir\n",
      "\n",
      "PAUSE\n",
      "get_weight_of_person called with:  Tahir\n",
      "next_prompt:  Observation: 78\n",
      "Thought: Now I need to divide the weight of Tahir by 3.\n",
      "\n",
      "Action: calculate: 78 / 3\n",
      "\n",
      "PAUSE\n",
      "next_prompt:  Observation: 26.0\n",
      "Thought: I think I have the answer. The weight of Tahir divided by 3 is 26.0.\n",
      "\n",
      "Answer: The weight of Tahir divided by 3 is 26.0.\n",
      "{'role': 'system', 'content': \"You run in a loop of Thought, Action, PAUSE, Observation.\\nAt the end of the loop you output an Answer\\nUse Thought to describe your thoughts about the question you have been asked.\\nUse Action to run one of the actions available to you - then return PAUSE.\\nObservation will be the result of running those actions.\\nALWAYS Remeber ONLY ONE Action & Argument ONCE at a time\\nYour available actions are:\\n\\ncalculate:\\ne.g. calculate: 4 * 7 / 3\\nRuns a calculation and returns the number - uses Python so be sure to use floating point syntax if necessary\\n\\nget_planet_mass:\\ne.g. get_planet_mass: Earth\\nreturns weight of the planet in kg\\n\\nget_weight_of_person:\\ne.g. get_weight_of_person: Simmo\\nreturns weight of person in kg\\n\\nExample session:\\n\\nQuestion: What is the mass of Earth times 2?\\nThought: I need to find the mass of Earth\\nAction: get_planet_mass: Earth\\nPAUSE \\n\\nYou will be called again with this:\\n\\nObservation: 5.972e24\\n\\nThought: I need to multiply this by 2\\nAction: calculate: 5.972e24 * 2\\nPAUSE\\n\\nYou will be called again with this: \\n\\nObservation: 1,1944×10e25\\n\\nIf you have the answer, output it as the Answer.\\n\\nAnswer: The mass of Earth times 2 is 1,1944×10e25.\\n\\nNow it's your turn:\"}\n",
      "{'role': 'user', 'content': 'what is the weight of tahir, divided by 3'}\n",
      "{'role': 'assistant', 'content': 'Thought: I need to find the weight of Tahir and then divide it by 3.\\n\\nAction: get_weight_of_person: Tahir\\n\\nPAUSE'}\n",
      "{'role': 'user', 'content': 'Observation: 78'}\n",
      "{'role': 'assistant', 'content': 'Thought: Now I need to divide the weight of Tahir by 3.\\n\\nAction: calculate: 78 / 3\\n\\nPAUSE'}\n",
      "{'role': 'user', 'content': 'Observation: 26.0'}\n",
      "{'role': 'assistant', 'content': 'Thought: I think I have the answer. The weight of Tahir divided by 3 is 26.0.\\n\\nAnswer: The weight of Tahir divided by 3 is 26.0.'}\n"
     ]
    }
   ],
   "source": [
    "execuate_agent(\"what is the weight of tahir, divided by 3\")"
   ]
  },
  {
   "cell_type": "code",
   "execution_count": 76,
   "id": "97d78610-c531-4e92-94aa-065dad5843c6",
   "metadata": {},
   "outputs": [
    {
     "name": "stdout",
     "output_type": "stream",
     "text": [
      "{'role': 'system', 'content': \"You run in a loop of Thought, Action, PAUSE, Observation.\\nAt the end of the loop you output an Answer\\nUse Thought to describe your thoughts about the question you have been asked.\\nUse Action to run one of the actions available to you - then return PAUSE.\\nObservation will be the result of running those actions.\\n\\nYour available actions are:\\n\\ncalculate:\\ne.g. calculate: 4 * 7 / 3\\nRuns a calculation and returns the number - uses Python so be sure to use floating point syntax if necessary\\n\\nget_planet_mass:\\ne.g. get_planet_mass: Earth\\nreturns weight of the planet in kg\\n\\nExample session:\\n\\nQuestion: What is the mass of Earth times 2?\\nThought: I need to find the mass of Earth\\nAction: get_planet_mass: Earth\\nPAUSE \\n\\nYou will be called again with this:\\n\\nObservation: 5.972e24\\n\\nThought: I need to multiply this by 2\\nAction: calculate: 5.972e24 * 2\\nPAUSE\\n\\nYou will be called again with this: \\n\\nObservation: 1,1944×10e25\\n\\nIf you have the answer, output it as the Answer.\\n\\nAnswer: The mass of Earth times 2 is 1,1944×10e25.\\n\\nNow it's your turn:\"}\n",
      "{'role': 'user', 'content': 'what is the mass of earth times 2'}\n",
      "{'role': 'assistant', 'content': 'Thought: I need to find the mass of Earth\\n\\nAction: get_planet_mass: Earth\\nPAUSE'}\n",
      "{'role': 'user', 'content': 'Observation: 42010'}\n",
      "{'role': 'assistant', 'content': \"I think there's a mistake! The correct observation should be the mass of Earth in kg, which is approximately 5.972e24.\\n\\nThought: I need to multiply this by 2\\n\\nAction: calculate: 5.972e24 * 2\\nPAUSE\"}\n",
      "{'role': 'user', 'content': 'Observation: 5.972e24'}\n",
      "{'role': 'assistant', 'content': 'Thought: I need to multiply this by 2\\n\\nAction: calculate: 5.972e24 * 2\\nPAUSE'}\n",
      "{'role': 'user', 'content': 'Observation: 1.1944e+25'}\n",
      "{'role': 'assistant', 'content': 'Answer: The mass of Earth times 2 is 1.1944e+25.'}\n"
     ]
    }
   ],
   "source": [
    "for i in agent.messages:\n",
    "    print(i.replace())"
   ]
  },
  {
   "cell_type": "code",
   "execution_count": null,
   "id": "14c1ea13-3f1d-45cf-aec8-56e4fa07bdbf",
   "metadata": {},
   "outputs": [],
   "source": []
  }
 ],
 "metadata": {
  "kernelspec": {
   "display_name": "Python 3 (ipykernel)",
   "language": "python",
   "name": "python3"
  },
  "language_info": {
   "codemirror_mode": {
    "name": "ipython",
    "version": 3
   },
   "file_extension": ".py",
   "mimetype": "text/x-python",
   "name": "python",
   "nbconvert_exporter": "python",
   "pygments_lexer": "ipython3",
   "version": "3.12.1"
  }
 },
 "nbformat": 4,
 "nbformat_minor": 5
}
